{
 "cells": [
  {
   "cell_type": "markdown",
   "metadata": {},
   "source": [
    "**Part I** Code Academy Review \n",
    "```\n",
    "Take screenshots of badges for following exercises:\n",
    "Python syntax\n",
    "String and console output\n",
    "Conditionals and Control flow\n",
    "Functions\n",
    "Python Lists and Dictionaries\n",
    "Lists and functions\n",
    "Loops\n",
    "Practice makes perfect\n",
    "![badge1](/home/eeb177-student/Desktop/eeb-177/class_hw/hw7.png)\n",
    "```"
   ]
  },
  {
   "cell_type": "markdown",
   "metadata": {},
   "source": [
    "**Part II**\n",
    "DNA Translation : write a program that will translate a DNA sequence into protein \n"
   ]
  },
  {
   "cell_type": "code",
   "execution_count": 5,
   "metadata": {
    "collapsed": true
   },
   "outputs": [],
   "source": [
    "#Pseudocode\n",
    "#import dictionary from text\n",
    "#split the DNA sequence into codons\n",
    "#look up the amino acid residue for each codon\n",
    "#join all the amino acids to give a protein \n"
   ]
  },
  {
   "cell_type": "code",
   "execution_count": 6,
   "metadata": {
    "collapsed": true
   },
   "outputs": [],
   "source": [
    "def translate_dna (dna):\n",
    "    last_codon_start = len(dna)-2\n",
    "    protein = \"\"\n",
    "    for start in range (0, last_codon_start,3):\n",
    "        codon = dna [start:start+3]\n",
    "        aa = gencode.get(codon, 'X')\n",
    "        protein = protein + aa\n",
    "    return protein"
   ]
  },
  {
   "cell_type": "markdown",
   "metadata": {},
   "source": [
    "**Part III** \n",
    "1. Write the simulation program described in section 4.3.2 \n",
    "2. Part 1 of 4.9.1\n",
    "3. Bonus: Part 2\n",
    "4. Bonus: Part 3 \n",
    "\n"
   ]
  },
  {
   "cell_type": "code",
   "execution_count": 9,
   "metadata": {
    "collapsed": false
   },
   "outputs": [],
   "source": [
    "#Part II\n",
    "#Write simulation program \n",
    "import scipy #for random numbers\n",
    "def build_population (N, p):\n",
    "    \"\"\"The population consists of N individuals. \n",
    "    Each individual has two chromosomes, containing\n",
    "    allele \"A\" or \"a\", with probabilty p an 1-p,\n",
    "    respectively.\n",
    "    \n",
    "    The population is a list of tuples.\n",
    "    \"\"\"\n",
    "    population = [] \n",
    "    for i in range (N):\n",
    "        allele1 = \"A\"\n",
    "        if scipy.random.rand() > p:\n",
    "            allele1 = \"a\"\n",
    "            allele2 = \"A\"\n",
    "        if scipy.random.rand() > p:\n",
    "            allele2 = 'a'\n",
    "            population.append ((allele1, allele2))\n",
    "    return population\n",
    "    \n"
   ]
  },
  {
   "cell_type": "code",
   "execution_count": 2,
   "metadata": {
    "collapsed": true
   },
   "outputs": [],
   "source": [
    "def compute_frequencies (population):\n",
    "    \"\"\"Count the genotypes.\n",
    "        Returns a dictionary with counts for each genotype.\n",
    "    \"\"\"\n",
    "    AA = population.count (('A', 'A'))\n",
    "    Aa = population.count (('A', 'a'))\n",
    "    aA = population.count (('a', 'A'))\n",
    "    aa = population.count (('a', 'a')) \n",
    "    return ({ 'AA': AA, 'aa': aa, 'Aa': Aa, 'aA': aA})"
   ]
  },
  {
   "cell_type": "code",
   "execution_count": null,
   "metadata": {
    "collapsed": true
   },
   "outputs": [],
   "source": [
    "def reproduce_population (population):\n",
    "    '''Create a new generation through sexual reproduction\n",
    "        For each of N new offspring:\n",
    "        -Choose the parents at random\n",
    "        -The offspring recieves a chromosome from each of \n",
    "        the parents\n",
    "    '''\n",
    "    new_generation = []\n",
    "    N = len (population)\n",
    "    for i in range(N):\n",
    "        dad = scipy.random.randint(N) #random integer between 0 and N-1\n",
    "        mom = scipy.random.randint(N)\n",
    "        chr_mom = scipy.random.randint(2)#which chromosome comes from mom\n",
    "        offspring = (population [mom][chr_mom], population[dad][1-chr_mom])\n",
    "        new_generation.append(offspring)\n",
    "        return (new_generation)\n",
    "         \n"
   ]
  },
  {
   "cell_type": "code",
   "execution_count": 3,
   "metadata": {
    "collapsed": true
   },
   "outputs": [],
   "source": [
    "def simulate_drift (N,p):\n",
    "    #initialize the population\n",
    "    my_pop = drift.build_population (N,p)\n",
    "    fixation = False\n",
    "    num_generations = 0 \n",
    "    while fixation == False:\n",
    "        #compute genotype counts\n",
    "        genotype_counts = drift.compute_frequency(my_pop)\n",
    "        #if one allele went to fixation, end the simulation \n",
    "        if genotype_counts ['AA'] == N or genotype_counts ['aa']==N:\n",
    "            print (\"An allele reached fixation at generation\", num_generations)\n",
    "            print (\"The genotype counts are\")\n",
    "            print (genotype_counts)\n",
    "            fixation == True \n",
    "            break\n",
    "            #if not, reproduce\n",
    "            \n",
    "    my_pop = drift.reproduce_population(my_pop)\n",
    "    num_generations = num_generations + 1 \n",
    "            "
   ]
  },
  {
   "cell_type": "code",
   "execution_count": 28,
   "metadata": {
    "collapsed": false
   },
   "outputs": [],
   "source": [
    "#Part III 4.9.1 \n",
    "#1. Write a function that takes as input the desired Taxon\n",
    "#and returns the mean value of r\n",
    "import re\n",
    "def mean_r (taxon):\n",
    "    file = open ( '/home/eeb177-student/Desktop/eeb-177/class_hw/Jiang2013_data.csv').readlines()\n",
    "    r = 0 \n",
    "    taxon_count = 0 \n",
    "    for line in file:\n",
    "        #make a list of all the data in a row \n",
    "        taxon_list = line.split (\"\\t\")\n",
    "        \n",
    "        if (len(taxon_list)>1) and (taxon_list[1] == taxon):\n",
    "            r = r +float (taxon_list[3])\n",
    "            taxon_count = taxon_count + 1 \n",
    "            r = r /taxon_count\n",
    "            \n",
    "    return r\n"
   ]
  },
  {
   "cell_type": "code",
   "execution_count": 29,
   "metadata": {
    "collapsed": false,
    "scrolled": true
   },
   "outputs": [
    {
     "name": "stdout",
     "output_type": "stream",
     "text": [
      "0.005922235165593651\n"
     ]
    }
   ],
   "source": [
    "print ( mean_r ( \"Amphibian\"))"
   ]
  },
  {
   "cell_type": "code",
   "execution_count": 4,
   "metadata": {
    "collapsed": true
   },
   "outputs": [],
   "source": [
    "#Part III 4.9.1\n",
    "#2. Compute a p-value by repeatedly sampling 37 values of r at random\n",
    "#calculate the probability of observing a higher mean value of r \n",
    "#use 50,000 estimations\n"
   ]
  },
  {
   "cell_type": "code",
   "execution_count": null,
   "metadata": {
    "collapsed": true
   },
   "outputs": [],
   "source": [
    "#Part III 4.9.1\n",
    "#3. Repeat the procedure for all taxa "
   ]
  }
 ],
 "metadata": {
  "anaconda-cloud": {},
  "kernelspec": {
   "display_name": "Python [conda root]",
   "language": "python",
   "name": "conda-root-py"
  },
  "language_info": {
   "codemirror_mode": {
    "name": "ipython",
    "version": 3
   },
   "file_extension": ".py",
   "mimetype": "text/x-python",
   "name": "python",
   "nbconvert_exporter": "python",
   "pygments_lexer": "ipython3",
   "version": "3.5.2"
  }
 },
 "nbformat": 4,
 "nbformat_minor": 2
}
