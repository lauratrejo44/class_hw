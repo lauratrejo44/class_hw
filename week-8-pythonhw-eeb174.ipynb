{
 "cells": [
  {
   "cell_type": "markdown",
   "metadata": {},
   "source": [
    "**Part I**\n",
    "1. Remove quotes from species names (and any other fields that are written to the output file).\n",
    "2. Sort the output so that species are listed alphabetically.\n",
    "3. Write a function that does the following:\n",
    "\n",
    "    1.takes a file name as argument\n",
    "    2.opens the file that is formatted like the cleaned version of the canid file we made from the shell \n",
    "    3.extracts the species name for each species with a latin binomial.\n",
    "    4.ignores records that have only the genus recorded.\n",
    "    5.populates a dictionary where the species are keys and the values are the ages of fossils known \n",
    "    6.returns this dictionary\n",
    "\n",
    "4. Write a second function that does the following:\n",
    "\n",
    "    1.takes a dictionary and output file name as arguments\n",
    "    2.opens a file for writing given the file name in the argument.\n",
    "    3.determines the minimum and maximum fossil age for each species in the passed dictionary\n",
    "    4.writes to the outfile a csv with the following fields: genus, species, minage, maxag\n",
    "\n",
    "5. Write a third function that finds the species with the longest fossil range given a dictionary of species ranges. \n",
    "6. Visualization\n",
    "Use the output of your python program above to plot the stratigraphic ranges of the canids in ggplot following the example code from lecture.\n",
    "In your R markdown document write a short report with the following information about your figure:\n",
    "\n",
    "    1. What taxonomic group is displayed?\n",
    "    2. How many unique fossil species are contained within it?\n",
    "    3. How many unique fossil genera?\n",
    "    4. What species has the longest \n",
    "\n",
    "Repeat parts 1a and 1b with a new family or order from the PBDB. You may use the taxonomic group you have chosen for your final project or another group. Make sure that whatever group you decide to use has at least 100 unique species. Note that you will need to check the Show accepted names only box next to Select by taxonomy to ensure that the field order is the same as in the example file.\n",
    "\n",
    "(Extra Credit) Write a set of python functions that will take species level fossil occurrence data such as that used in parts 1 and 2 and produce the minimum and maximum age of each genus represented in the file. Then use R to plot the stratigraphic ranges of each genus. "
   ]
  },
  {
   "cell_type": "code",
   "execution_count": 32,
   "metadata": {
    "collapsed": false
   },
   "outputs": [],
   "source": [
    "#open the file \n",
    "\n",
    "import csv\n",
    "    \n",
    "infile = \"/home/eeb177-student/Desktop/eeb-177/class-work/Canids/pdbd2_data.csv\"\n",
    "with open(infile,'r') as ff:\n",
    "    canids_recs = ff.readlines()\n",
    "\n",
    "\n",
    " \n",
    "\n"
   ]
  },
  {
   "cell_type": "code",
   "execution_count": 44,
   "metadata": {
    "collapsed": false,
    "scrolled": true
   },
   "outputs": [],
   "source": [
    "#remove quotes from species name \n",
    "# use default dict\n",
    "from collections import defaultdict\n",
    "species_ranges = defaultdict(list)\n",
    "\n",
    "\n",
    "# make a dict\n",
    "for line in canids_recs: \n",
    "    species = line.split(\",\")[5][1:-1]\n",
    "    minage = line.split('\",\"')[10]\n",
    "    maxage = line.split('\",\"')[11]\n",
    "    mean_age = (float(minage) + float(maxage))/2\n",
    "   \n",
    "    \n",
    "    species_ranges[species].append(mean_age) # add species as keys \n",
    "    "
   ]
  },
  {
   "cell_type": "code",
   "execution_count": 46,
   "metadata": {
    "collapsed": false
   },
   "outputs": [],
   "source": [
    "#sort ouput so species are in alphabetical order \n",
    "#create an output file \n",
    "output = open(\"canid-ranges.csv\", \"w\")\n",
    "\n",
    "#sort the species in alphabetical order \n",
    "sort_spp = sorted (species_ranges.keys())\n",
    "\n",
    "#get oldest and youngest\n",
    "\n",
    "for key in sort_spp:\n",
    "    ages = species_ranges[key]\n",
    "    minage = min(ages)\n",
    "    maxage = max(ages)\n",
    "    genus = key.split(\" \")[0]\n",
    "    species = key\n",
    "    outline= \"{},{},{},{}\\n\".format(genus, species, minage, maxage)\n",
    "    output.write(outline)\n",
    "   # print(outline)"
   ]
  },
  {
   "cell_type": "markdown",
   "metadata": {},
   "source": [
    "\n"
   ]
  }
 ],
 "metadata": {
  "anaconda-cloud": {},
  "kernelspec": {
   "display_name": "Python [conda root]",
   "language": "python",
   "name": "conda-root-py"
  },
  "language_info": {
   "codemirror_mode": {
    "name": "ipython",
    "version": 3
   },
   "file_extension": ".py",
   "mimetype": "text/x-python",
   "name": "python",
   "nbconvert_exporter": "python",
   "pygments_lexer": "ipython3",
   "version": "3.5.2"
  }
 },
 "nbformat": 4,
 "nbformat_minor": 2
}
