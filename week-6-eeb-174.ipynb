{
 "cells": [
  {
   "cell_type": "markdown",
   "metadata": {},
   "source": [
    "**Part I** Code Academy Review \n",
    "````\n",
    "Take screenshots of badges for following exercises:\n",
    "Python syntax\n",
    "String and console output\n",
    "Conditionals and Control flow\n",
    "Functions\n",
    "Python Lists and Dictionaries\n",
    "Lists and functions\n",
    "Loops\n",
    "Practice makes perfect\n",
    "```"
   ]
  },
  {
   "cell_type": "markdown",
   "metadata": {},
   "source": [
    "**Part II**\n",
    "DNA Translation : write a program that will translate a DNA sequence into protein \n"
   ]
  },
  {
   "cell_type": "code",
   "execution_count": 5,
   "metadata": {
    "collapsed": true
   },
   "outputs": [],
   "source": [
    "#Pseudocode\n",
    "#import dictionary from text\n",
    "#split the DNA sequence into codons\n",
    "#look up the amino acid residue for each codon\n",
    "#join all the amino acids to give a protein \n"
   ]
  },
  {
   "cell_type": "code",
   "execution_count": 6,
   "metadata": {
    "collapsed": true
   },
   "outputs": [],
   "source": [
    "def translate_dna (dna):\n",
    "    last_codon_start = len(dna)-2\n",
    "    protein = \"\"\n",
    "    for start in range (0, last_codon_start,3):\n",
    "        codon = dna [start:start+3]\n",
    "        aa = gencode.get(codon, 'X')\n",
    "        protein = protein + aa\n",
    "    return protein"
   ]
  },
  {
   "cell_type": "markdown",
   "metadata": {},
   "source": [
    "**Part III** \n",
    "1. Write the simulation program described in section 4.3.2 \n",
    "2. Part 1 of 4.9.1\n",
    "3. Bonus: Part 2\n",
    "4. Bonus: Part 3 \n",
    "\n"
   ]
  },
  {
   "cell_type": "code",
   "execution_count": 9,
   "metadata": {
    "collapsed": false
   },
   "outputs": [],
   "source": [
    "#Part II\n",
    "#Write simulation program \n",
    "import scipy #for random numbers\n",
    "def build_population (N, p):\n",
    "    \"\"\"The population consists of N individuals. \n",
    "    Each individual has two chromosomes, containing\n",
    "    allele \"A\" or \"a\", with probabilty p an 1-p,\n",
    "    respectively.\n",
    "    \n",
    "    The population is a list of tuples.\n",
    "    \"\"\"\n",
    "    population = [] \n",
    "    for i in range (N):\n",
    "        allele1 = \"A\"\n",
    "        if scipy.random.rand() > p:\n",
    "            allele1 = \"a\"\n",
    "            allele2 = \"A\"\n",
    "        if scipy.random.rand() > p:\n",
    "            allele2 = 'a'\n",
    "            population.append ((allele1, allele2))\n",
    "    return population\n",
    "    \n"
   ]
  },
  {
   "cell_type": "code",
   "execution_count": null,
   "metadata": {
    "collapsed": true
   },
   "outputs": [],
   "source": [
    "def compute_frequencies (population):\n",
    "    AA = population.count "
   ]
  },
  {
   "cell_type": "code",
   "execution_count": 3,
   "metadata": {
    "collapsed": true
   },
   "outputs": [],
   "source": [
    "#Part III 4.9.1 \n",
    "#1. Write a function that takes as input the desired Taxon\n",
    "#and returns the mean value of r\n"
   ]
  },
  {
   "cell_type": "code",
   "execution_count": 4,
   "metadata": {
    "collapsed": true
   },
   "outputs": [],
   "source": [
    "#Part III 4.9.1\n",
    "#2. Compute a p-value by repeatedly sampling 37 values of r at random\n",
    "#calculate the probability of observing a higher mean value of r \n",
    "#use 50,000 estimations"
   ]
  },
  {
   "cell_type": "code",
   "execution_count": null,
   "metadata": {
    "collapsed": true
   },
   "outputs": [],
   "source": [
    "#Part III 4.9.1\n",
    "#3. Repeat the procedure for all taxa "
   ]
  }
 ],
 "metadata": {
  "anaconda-cloud": {},
  "kernelspec": {
   "display_name": "Python [conda root]",
   "language": "python",
   "name": "conda-root-py"
  },
  "language_info": {
   "codemirror_mode": {
    "name": "ipython",
    "version": 3
   },
   "file_extension": ".py",
   "mimetype": "text/x-python",
   "name": "python",
   "nbconvert_exporter": "python",
   "pygments_lexer": "ipython3",
   "version": "3.5.2"
  }
 },
 "nbformat": 4,
 "nbformat_minor": 2
}
